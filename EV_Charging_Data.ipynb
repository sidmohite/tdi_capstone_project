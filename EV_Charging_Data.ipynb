{
 "cells": [
  {
   "cell_type": "code",
   "execution_count": 1,
   "metadata": {},
   "outputs": [],
   "source": [
    "import pandas as pd\n",
    "import numpy as np\n",
    "import matplotlib.pyplot as plt"
   ]
  },
  {
   "cell_type": "markdown",
   "metadata": {},
   "source": [
    "### Load datasets"
   ]
  },
  {
   "cell_type": "code",
   "execution_count": 2,
   "metadata": {},
   "outputs": [],
   "source": [
    "data_demo = pd.read_csv('EValuateNY-ZIP-File/census_bureau_demographics.csv')"
   ]
  },
  {
   "cell_type": "code",
   "execution_count": 3,
   "metadata": {},
   "outputs": [],
   "source": [
    "data_charging = pd.read_csv('EValuateNY-ZIP-File/resources_charginguse.csv')"
   ]
  },
  {
   "cell_type": "code",
   "execution_count": 4,
   "metadata": {},
   "outputs": [],
   "source": [
    "data_rebate = pd.read_csv('EValuateNY-ZIP-File/resources_driveclean.csv')"
   ]
  },
  {
   "cell_type": "code",
   "execution_count": 5,
   "metadata": {},
   "outputs": [
    {
     "data": {
      "text/html": [
       "<div>\n",
       "<style scoped>\n",
       "    .dataframe tbody tr th:only-of-type {\n",
       "        vertical-align: middle;\n",
       "    }\n",
       "\n",
       "    .dataframe tbody tr th {\n",
       "        vertical-align: top;\n",
       "    }\n",
       "\n",
       "    .dataframe thead th {\n",
       "        text-align: right;\n",
       "    }\n",
       "</style>\n",
       "<table border=\"1\" class=\"dataframe\">\n",
       "  <thead>\n",
       "    <tr style=\"text-align: right;\">\n",
       "      <th></th>\n",
       "      <th>Household Income in Past 12 Months</th>\n",
       "      <th>Households</th>\n",
       "      <th>Households (1 Vehicle Available)</th>\n",
       "      <th>Households (2 Vehicles Available)</th>\n",
       "      <th>Households (3 Vehicles Available)</th>\n",
       "      <th>Households (4 or More Vehicles Available)</th>\n",
       "      <th>Households (No Vehicle Available)</th>\n",
       "      <th>Housing Units</th>\n",
       "      <th>Housing Units (1, Attached)</th>\n",
       "      <th>Housing Units (1, Detached)</th>\n",
       "      <th>...</th>\n",
       "      <th>Educational Attainment (12th grade, no diploma)</th>\n",
       "      <th>Educational Attainment (Regular high school diploma)</th>\n",
       "      <th>Educational Attainment (GED or alternative credential)</th>\n",
       "      <th>Educational Attainment (Some college, less than 1 year)</th>\n",
       "      <th>Educational Attainment (Some college, 1 or more years, no degree)</th>\n",
       "      <th>Educational Attainment (Associate's degree)</th>\n",
       "      <th>Educational Attainment (Bachelor's degree)</th>\n",
       "      <th>Educational Attainment (Master's degree)</th>\n",
       "      <th>Educational Attainment (Professional school degree)</th>\n",
       "      <th>Educational Attainment (Doctorate degree)</th>\n",
       "    </tr>\n",
       "  </thead>\n",
       "  <tbody>\n",
       "    <tr>\n",
       "      <th>0</th>\n",
       "      <td>73</td>\n",
       "      <td>73</td>\n",
       "      <td>39</td>\n",
       "      <td>11</td>\n",
       "      <td>2</td>\n",
       "      <td>21</td>\n",
       "      <td>0</td>\n",
       "      <td>758</td>\n",
       "      <td>3</td>\n",
       "      <td>723</td>\n",
       "      <td>...</td>\n",
       "      <td>4.0</td>\n",
       "      <td>63.0</td>\n",
       "      <td>36.0</td>\n",
       "      <td>0.0</td>\n",
       "      <td>2.0</td>\n",
       "      <td>0.0</td>\n",
       "      <td>36.0</td>\n",
       "      <td>5.0</td>\n",
       "      <td>0.0</td>\n",
       "      <td>20.0</td>\n",
       "    </tr>\n",
       "    <tr>\n",
       "      <th>1</th>\n",
       "      <td>4105</td>\n",
       "      <td>4105</td>\n",
       "      <td>1032</td>\n",
       "      <td>1839</td>\n",
       "      <td>731</td>\n",
       "      <td>361</td>\n",
       "      <td>142</td>\n",
       "      <td>4746</td>\n",
       "      <td>0</td>\n",
       "      <td>4203</td>\n",
       "      <td>...</td>\n",
       "      <td>91.0</td>\n",
       "      <td>2037.0</td>\n",
       "      <td>213.0</td>\n",
       "      <td>491.0</td>\n",
       "      <td>919.0</td>\n",
       "      <td>975.0</td>\n",
       "      <td>1420.0</td>\n",
       "      <td>1131.0</td>\n",
       "      <td>67.0</td>\n",
       "      <td>78.0</td>\n",
       "    </tr>\n",
       "    <tr>\n",
       "      <th>2</th>\n",
       "      <td>17256</td>\n",
       "      <td>17256</td>\n",
       "      <td>5670</td>\n",
       "      <td>792</td>\n",
       "      <td>126</td>\n",
       "      <td>34</td>\n",
       "      <td>10634</td>\n",
       "      <td>18656</td>\n",
       "      <td>604</td>\n",
       "      <td>373</td>\n",
       "      <td>...</td>\n",
       "      <td>438.0</td>\n",
       "      <td>3966.0</td>\n",
       "      <td>642.0</td>\n",
       "      <td>1128.0</td>\n",
       "      <td>2744.0</td>\n",
       "      <td>1282.0</td>\n",
       "      <td>11797.0</td>\n",
       "      <td>4846.0</td>\n",
       "      <td>814.0</td>\n",
       "      <td>271.0</td>\n",
       "    </tr>\n",
       "    <tr>\n",
       "      <th>3</th>\n",
       "      <td>29345</td>\n",
       "      <td>29345</td>\n",
       "      <td>7844</td>\n",
       "      <td>1954</td>\n",
       "      <td>356</td>\n",
       "      <td>155</td>\n",
       "      <td>19036</td>\n",
       "      <td>32088</td>\n",
       "      <td>1755</td>\n",
       "      <td>578</td>\n",
       "      <td>...</td>\n",
       "      <td>990.0</td>\n",
       "      <td>13737.0</td>\n",
       "      <td>2235.0</td>\n",
       "      <td>1374.0</td>\n",
       "      <td>5981.0</td>\n",
       "      <td>3803.0</td>\n",
       "      <td>8449.0</td>\n",
       "      <td>3310.0</td>\n",
       "      <td>430.0</td>\n",
       "      <td>321.0</td>\n",
       "    </tr>\n",
       "    <tr>\n",
       "      <th>4</th>\n",
       "      <td>32269</td>\n",
       "      <td>32269</td>\n",
       "      <td>13713</td>\n",
       "      <td>3200</td>\n",
       "      <td>381</td>\n",
       "      <td>68</td>\n",
       "      <td>14907</td>\n",
       "      <td>35319</td>\n",
       "      <td>2212</td>\n",
       "      <td>2491</td>\n",
       "      <td>...</td>\n",
       "      <td>1269.0</td>\n",
       "      <td>11484.0</td>\n",
       "      <td>1656.0</td>\n",
       "      <td>1411.0</td>\n",
       "      <td>4407.0</td>\n",
       "      <td>4521.0</td>\n",
       "      <td>16573.0</td>\n",
       "      <td>8694.0</td>\n",
       "      <td>2083.0</td>\n",
       "      <td>1053.0</td>\n",
       "    </tr>\n",
       "  </tbody>\n",
       "</table>\n",
       "<p>5 rows × 71 columns</p>\n",
       "</div>"
      ],
      "text/plain": [
       "   Household Income in Past 12 Months  Households  \\\n",
       "0                                  73          73   \n",
       "1                                4105        4105   \n",
       "2                               17256       17256   \n",
       "3                               29345       29345   \n",
       "4                               32269       32269   \n",
       "\n",
       "   Households (1 Vehicle Available)  Households (2 Vehicles Available)  \\\n",
       "0                                39                                 11   \n",
       "1                              1032                               1839   \n",
       "2                              5670                                792   \n",
       "3                              7844                               1954   \n",
       "4                             13713                               3200   \n",
       "\n",
       "   Households (3 Vehicles Available)  \\\n",
       "0                                  2   \n",
       "1                                731   \n",
       "2                                126   \n",
       "3                                356   \n",
       "4                                381   \n",
       "\n",
       "   Households (4 or More Vehicles Available)  \\\n",
       "0                                         21   \n",
       "1                                        361   \n",
       "2                                         34   \n",
       "3                                        155   \n",
       "4                                         68   \n",
       "\n",
       "   Households (No Vehicle Available)  Housing Units  \\\n",
       "0                                  0            758   \n",
       "1                                142           4746   \n",
       "2                              10634          18656   \n",
       "3                              19036          32088   \n",
       "4                              14907          35319   \n",
       "\n",
       "   Housing Units (1, Attached)  Housing Units (1, Detached)  \\\n",
       "0                            3                          723   \n",
       "1                            0                         4203   \n",
       "2                          604                          373   \n",
       "3                         1755                          578   \n",
       "4                         2212                         2491   \n",
       "\n",
       "                     ...                      \\\n",
       "0                    ...                       \n",
       "1                    ...                       \n",
       "2                    ...                       \n",
       "3                    ...                       \n",
       "4                    ...                       \n",
       "\n",
       "   Educational Attainment (12th grade, no diploma)  \\\n",
       "0                                              4.0   \n",
       "1                                             91.0   \n",
       "2                                            438.0   \n",
       "3                                            990.0   \n",
       "4                                           1269.0   \n",
       "\n",
       "   Educational Attainment (Regular high school diploma)  \\\n",
       "0                                               63.0      \n",
       "1                                             2037.0      \n",
       "2                                             3966.0      \n",
       "3                                            13737.0      \n",
       "4                                            11484.0      \n",
       "\n",
       "   Educational Attainment (GED or alternative credential)  \\\n",
       "0                                               36.0        \n",
       "1                                              213.0        \n",
       "2                                              642.0        \n",
       "3                                             2235.0        \n",
       "4                                             1656.0        \n",
       "\n",
       "   Educational Attainment (Some college, less than 1 year)  \\\n",
       "0                                                0.0         \n",
       "1                                              491.0         \n",
       "2                                             1128.0         \n",
       "3                                             1374.0         \n",
       "4                                             1411.0         \n",
       "\n",
       "   Educational Attainment (Some college, 1 or more years, no degree)  \\\n",
       "0                                                2.0                   \n",
       "1                                              919.0                   \n",
       "2                                             2744.0                   \n",
       "3                                             5981.0                   \n",
       "4                                             4407.0                   \n",
       "\n",
       "   Educational Attainment (Associate's degree)  \\\n",
       "0                                          0.0   \n",
       "1                                        975.0   \n",
       "2                                       1282.0   \n",
       "3                                       3803.0   \n",
       "4                                       4521.0   \n",
       "\n",
       "   Educational Attainment (Bachelor's degree)  \\\n",
       "0                                        36.0   \n",
       "1                                      1420.0   \n",
       "2                                     11797.0   \n",
       "3                                      8449.0   \n",
       "4                                     16573.0   \n",
       "\n",
       "   Educational Attainment (Master's degree)  \\\n",
       "0                                       5.0   \n",
       "1                                    1131.0   \n",
       "2                                    4846.0   \n",
       "3                                    3310.0   \n",
       "4                                    8694.0   \n",
       "\n",
       "   Educational Attainment (Professional school degree)  \\\n",
       "0                                                0.0     \n",
       "1                                               67.0     \n",
       "2                                              814.0     \n",
       "3                                              430.0     \n",
       "4                                             2083.0     \n",
       "\n",
       "   Educational Attainment (Doctorate degree)  \n",
       "0                                       20.0  \n",
       "1                                       78.0  \n",
       "2                                      271.0  \n",
       "3                                      321.0  \n",
       "4                                     1053.0  \n",
       "\n",
       "[5 rows x 71 columns]"
      ]
     },
     "execution_count": 5,
     "metadata": {},
     "output_type": "execute_result"
    }
   ],
   "source": [
    "data_demo.head()"
   ]
  },
  {
   "cell_type": "code",
   "execution_count": 6,
   "metadata": {},
   "outputs": [
    {
     "data": {
      "text/html": [
       "<div>\n",
       "<style scoped>\n",
       "    .dataframe tbody tr th:only-of-type {\n",
       "        vertical-align: middle;\n",
       "    }\n",
       "\n",
       "    .dataframe tbody tr th {\n",
       "        vertical-align: top;\n",
       "    }\n",
       "\n",
       "    .dataframe thead th {\n",
       "        text-align: right;\n",
       "    }\n",
       "</style>\n",
       "<table border=\"1\" class=\"dataframe\">\n",
       "  <thead>\n",
       "    <tr style=\"text-align: right;\">\n",
       "      <th></th>\n",
       "      <th>Start Date</th>\n",
       "      <th>ZIP Code</th>\n",
       "      <th>Network</th>\n",
       "      <th>Charging Time (hours)</th>\n",
       "      <th>Total Duration (hours)</th>\n",
       "      <th>Energy (kWh)</th>\n",
       "      <th>Charging Sessions</th>\n",
       "      <th>Active Station Count</th>\n",
       "      <th>Active Port Count</th>\n",
       "    </tr>\n",
       "  </thead>\n",
       "  <tbody>\n",
       "    <tr>\n",
       "      <th>0</th>\n",
       "      <td>3/1/19</td>\n",
       "      <td>10468</td>\n",
       "      <td>EV Connect</td>\n",
       "      <td>8</td>\n",
       "      <td>9</td>\n",
       "      <td>127.348</td>\n",
       "      <td>6</td>\n",
       "      <td>3</td>\n",
       "      <td>3</td>\n",
       "    </tr>\n",
       "    <tr>\n",
       "      <th>1</th>\n",
       "      <td>2/1/19</td>\n",
       "      <td>10468</td>\n",
       "      <td>EV Connect</td>\n",
       "      <td>2</td>\n",
       "      <td>20</td>\n",
       "      <td>1135.876</td>\n",
       "      <td>45</td>\n",
       "      <td>3</td>\n",
       "      <td>3</td>\n",
       "    </tr>\n",
       "    <tr>\n",
       "      <th>2</th>\n",
       "      <td>3/1/19</td>\n",
       "      <td>11520</td>\n",
       "      <td>EV Connect</td>\n",
       "      <td>0</td>\n",
       "      <td>22</td>\n",
       "      <td>100.271</td>\n",
       "      <td>9</td>\n",
       "      <td>2</td>\n",
       "      <td>2</td>\n",
       "    </tr>\n",
       "    <tr>\n",
       "      <th>3</th>\n",
       "      <td>1/1/19</td>\n",
       "      <td>10468</td>\n",
       "      <td>EV Connect</td>\n",
       "      <td>6</td>\n",
       "      <td>17</td>\n",
       "      <td>1580.828</td>\n",
       "      <td>54</td>\n",
       "      <td>3</td>\n",
       "      <td>3</td>\n",
       "    </tr>\n",
       "    <tr>\n",
       "      <th>4</th>\n",
       "      <td>2/1/19</td>\n",
       "      <td>11520</td>\n",
       "      <td>EV Connect</td>\n",
       "      <td>11</td>\n",
       "      <td>0</td>\n",
       "      <td>425.306</td>\n",
       "      <td>45</td>\n",
       "      <td>2</td>\n",
       "      <td>2</td>\n",
       "    </tr>\n",
       "  </tbody>\n",
       "</table>\n",
       "</div>"
      ],
      "text/plain": [
       "  Start Date  ZIP Code     Network  Charging Time (hours)  \\\n",
       "0     3/1/19     10468  EV Connect                      8   \n",
       "1     2/1/19     10468  EV Connect                      2   \n",
       "2     3/1/19     11520  EV Connect                      0   \n",
       "3     1/1/19     10468  EV Connect                      6   \n",
       "4     2/1/19     11520  EV Connect                     11   \n",
       "\n",
       "   Total Duration (hours)  Energy (kWh)  Charging Sessions  \\\n",
       "0                       9       127.348                  6   \n",
       "1                      20      1135.876                 45   \n",
       "2                      22       100.271                  9   \n",
       "3                      17      1580.828                 54   \n",
       "4                       0       425.306                 45   \n",
       "\n",
       "   Active Station Count  Active Port Count  \n",
       "0                     3                  3  \n",
       "1                     3                  3  \n",
       "2                     2                  2  \n",
       "3                     3                  3  \n",
       "4                     2                  2  "
      ]
     },
     "execution_count": 6,
     "metadata": {},
     "output_type": "execute_result"
    }
   ],
   "source": [
    "data_charging.head()"
   ]
  },
  {
   "cell_type": "code",
   "execution_count": 7,
   "metadata": {},
   "outputs": [
    {
     "data": {
      "text/html": [
       "<div>\n",
       "<style scoped>\n",
       "    .dataframe tbody tr th:only-of-type {\n",
       "        vertical-align: middle;\n",
       "    }\n",
       "\n",
       "    .dataframe tbody tr th {\n",
       "        vertical-align: top;\n",
       "    }\n",
       "\n",
       "    .dataframe thead th {\n",
       "        text-align: right;\n",
       "    }\n",
       "</style>\n",
       "<table border=\"1\" class=\"dataframe\">\n",
       "  <thead>\n",
       "    <tr style=\"text-align: right;\">\n",
       "      <th></th>\n",
       "      <th>Submitted Date</th>\n",
       "      <th>ZIP Code</th>\n",
       "      <th>Transaction Type</th>\n",
       "      <th>Annual GHG Emissions</th>\n",
       "      <th>Annual Petroleum Reduction</th>\n",
       "      <th>Rebate ($)</th>\n",
       "      <th>Vehicle Name</th>\n",
       "      <th>Unnamed: 7</th>\n",
       "      <th>Unnamed: 8</th>\n",
       "      <th>Unnamed: 9</th>\n",
       "    </tr>\n",
       "  </thead>\n",
       "  <tbody>\n",
       "    <tr>\n",
       "      <th>0</th>\n",
       "      <td>10/7/20</td>\n",
       "      <td>10549.0</td>\n",
       "      <td>Purchase</td>\n",
       "      <td>2.99</td>\n",
       "      <td>592.89</td>\n",
       "      <td>$2,000</td>\n",
       "      <td>Tesla Model 3</td>\n",
       "      <td>NaN</td>\n",
       "      <td>NaN</td>\n",
       "      <td>NaN</td>\n",
       "    </tr>\n",
       "    <tr>\n",
       "      <th>1</th>\n",
       "      <td>3/29/17</td>\n",
       "      <td>12189.0</td>\n",
       "      <td>Purchase</td>\n",
       "      <td>1.66</td>\n",
       "      <td>292.89</td>\n",
       "      <td>$500</td>\n",
       "      <td>Audi A3 Plug In</td>\n",
       "      <td>NaN</td>\n",
       "      <td>NaN</td>\n",
       "      <td>NaN</td>\n",
       "    </tr>\n",
       "    <tr>\n",
       "      <th>2</th>\n",
       "      <td>10/8/20</td>\n",
       "      <td>14623.0</td>\n",
       "      <td>Lease</td>\n",
       "      <td>2.91</td>\n",
       "      <td>592.89</td>\n",
       "      <td>$2,000</td>\n",
       "      <td>Nissan Leaf</td>\n",
       "      <td>NaN</td>\n",
       "      <td>NaN</td>\n",
       "      <td>NaN</td>\n",
       "    </tr>\n",
       "    <tr>\n",
       "      <th>3</th>\n",
       "      <td>10/13/20</td>\n",
       "      <td>10956.0</td>\n",
       "      <td>Purchase</td>\n",
       "      <td>2.52</td>\n",
       "      <td>592.89</td>\n",
       "      <td>$500</td>\n",
       "      <td>Tesla Model X</td>\n",
       "      <td>NaN</td>\n",
       "      <td>NaN</td>\n",
       "      <td>NaN</td>\n",
       "    </tr>\n",
       "    <tr>\n",
       "      <th>4</th>\n",
       "      <td>10/20/20</td>\n",
       "      <td>11747.0</td>\n",
       "      <td>Lease</td>\n",
       "      <td>2.52</td>\n",
       "      <td>592.89</td>\n",
       "      <td>$500</td>\n",
       "      <td>Tesla Model X</td>\n",
       "      <td>NaN</td>\n",
       "      <td>NaN</td>\n",
       "      <td>NaN</td>\n",
       "    </tr>\n",
       "  </tbody>\n",
       "</table>\n",
       "</div>"
      ],
      "text/plain": [
       "  Submitted Date  ZIP Code Transaction Type  Annual GHG Emissions  \\\n",
       "0        10/7/20   10549.0         Purchase                  2.99   \n",
       "1        3/29/17   12189.0         Purchase                  1.66   \n",
       "2        10/8/20   14623.0            Lease                  2.91   \n",
       "3       10/13/20   10956.0         Purchase                  2.52   \n",
       "4       10/20/20   11747.0            Lease                  2.52   \n",
       "\n",
       "   Annual Petroleum Reduction Rebate ($)     Vehicle Name  Unnamed: 7  \\\n",
       "0                      592.89     $2,000    Tesla Model 3         NaN   \n",
       "1                      292.89       $500  Audi A3 Plug In         NaN   \n",
       "2                      592.89     $2,000      Nissan Leaf         NaN   \n",
       "3                      592.89       $500    Tesla Model X         NaN   \n",
       "4                      592.89       $500    Tesla Model X         NaN   \n",
       "\n",
       "   Unnamed: 8  Unnamed: 9  \n",
       "0         NaN         NaN  \n",
       "1         NaN         NaN  \n",
       "2         NaN         NaN  \n",
       "3         NaN         NaN  \n",
       "4         NaN         NaN  "
      ]
     },
     "execution_count": 7,
     "metadata": {},
     "output_type": "execute_result"
    }
   ],
   "source": [
    "data_rebate.head()"
   ]
  },
  {
   "cell_type": "code",
   "execution_count": 8,
   "metadata": {},
   "outputs": [],
   "source": [
    "#Remove NaNs and spurious values\n",
    "data_demo = data_demo.dropna()\n",
    "data_charging = data_charging.dropna()"
   ]
  },
  {
   "cell_type": "code",
   "execution_count": 9,
   "metadata": {},
   "outputs": [],
   "source": [
    "zip_codes_demo = np.unique(data_charging['ZIP Code'].values)"
   ]
  },
  {
   "cell_type": "code",
   "execution_count": 10,
   "metadata": {},
   "outputs": [
    {
     "data": {
      "text/plain": [
       "127"
      ]
     },
     "execution_count": 10,
     "metadata": {},
     "output_type": "execute_result"
    }
   ],
   "source": [
    "len(zip_codes_demo)"
   ]
  },
  {
   "cell_type": "code",
   "execution_count": 11,
   "metadata": {},
   "outputs": [],
   "source": [
    "demo=[]\n",
    "for zc in zip_codes_demo:\n",
    "    demo.append(data_demo[data_demo['ZIP Code']==zc])"
   ]
  },
  {
   "cell_type": "code",
   "execution_count": 12,
   "metadata": {},
   "outputs": [
    {
     "data": {
      "image/png": "[encoded data removed]",
      "text/plain": [
       "<Figure size 720x576 with 1 Axes>"
      ]
     },
     "metadata": {
      "needs_background": "light"
     },
     "output_type": "display_data"
    }
   ],
   "source": [
    "mean_masters_degree = []\n",
    "mean_charging_energy = []\n",
    "for i in range(len(demo)):\n",
    "    if len(demo[i])!=0:\n",
    "        mean_masters_degree.append(np.mean(demo[i]['Educational Attainment (Master\\'s degree)'].values))\n",
    "        mean_charging_energy.append(np.mean(data_charging[data_charging['ZIP Code']==zip_codes_demo[i]]['Energy (kWh)'].values))\n",
    "\n",
    "plt.figure(figsize=(10,8))\n",
    "plt.plot(mean_masters_degree,mean_charging_energy,'b.')\n",
    "plt.title('EV Charge vs Education Level in NY Counties',fontsize=15)\n",
    "plt.xlabel('No. of Masters\\'s Degree',fontsize=13)\n",
    "plt.ylabel('EV Energy Use (kWh)',fontsize=13)\n",
    "plt.tight_layout()\n",
    "plt.savefig('plots/EV_Charge_vs_Education.png',dpi=300)\n",
    "plt.show()"
   ]
  },
  {
   "cell_type": "code",
   "execution_count": 13,
   "metadata": {},
   "outputs": [],
   "source": [
    "data_charging['Start Date'] = pd.to_datetime(data_charging['Start Date'])\n",
    "data_rebate['Submitted Date'] = pd.to_datetime(data_rebate['Submitted Date'])"
   ]
  },
  {
   "cell_type": "code",
   "execution_count": 14,
   "metadata": {},
   "outputs": [
    {
     "data": {
      "text/plain": [
       "(Timestamp('2010-12-01 00:00:00'), Timestamp('2017-03-23 00:00:00'))"
      ]
     },
     "execution_count": 14,
     "metadata": {},
     "output_type": "execute_result"
    }
   ],
   "source": [
    "data_charging['Start Date'].min(),data_rebate['Submitted Date'].min()"
   ]
  },
  {
   "cell_type": "code",
   "execution_count": 15,
   "metadata": {},
   "outputs": [
    {
     "data": {
      "text/plain": [
       "(Timestamp('2020-12-01 00:00:00'), Timestamp('2020-12-30 00:00:00'))"
      ]
     },
     "execution_count": 15,
     "metadata": {},
     "output_type": "execute_result"
    }
   ],
   "source": [
    "data_charging['Start Date'].max(),data_rebate['Submitted Date'].max()"
   ]
  },
  {
   "cell_type": "code",
   "execution_count": 16,
   "metadata": {},
   "outputs": [],
   "source": [
    "date_ranges = pd.date_range(start=data_rebate['Submitted Date'].min(),end=data_charging['Start Date'].max(),freq=\"30.5D\")"
   ]
  },
  {
   "cell_type": "code",
   "execution_count": 17,
   "metadata": {},
   "outputs": [],
   "source": [
    "monthly_energy = []\n",
    "number_of_purchases = []\n",
    "for i in range(len(date_ranges)-1):\n",
    "    start_date = date_ranges[i]\n",
    "    end_date = date_ranges[i+1]\n",
    "    after_start_charging = data_charging['Start Date'] >= start_date\n",
    "    before_end_charging =  data_charging['Start Date'] <= end_date\n",
    "    between_two_charging = after_start_charging & before_end_charging\n",
    "    filtered_charging = data_charging.loc[between_two_charging]\n",
    "    monthly_energy.append(np.mean(filtered_charging['Energy (kWh)'].values))\n",
    "    \n",
    "    after_start_rebate = data_rebate['Submitted Date'] >= start_date\n",
    "    before_end_rebate =  data_rebate['Submitted Date'] <= end_date\n",
    "    between_two_rebate = after_start_rebate & before_end_rebate\n",
    "    filtered_rebate = data_rebate.loc[between_two_rebate]\n",
    "    number_of_purchases.append(len(filtered_rebate))"
   ]
  },
  {
   "cell_type": "code",
   "execution_count": 19,
   "metadata": {},
   "outputs": [
    {
     "data": {
      "image/png": "[encoded data removed]",
      "text/plain": [
       "<Figure size 720x576 with 1 Axes>"
      ]
     },
     "metadata": {
      "needs_background": "light"
     },
     "output_type": "display_data"
    }
   ],
   "source": [
    "plt.figure(figsize=(10,8))\n",
    "plt.plot(number_of_purchases,monthly_energy,'.')\n",
    "plt.title('No. of purchases VS Monthly Charging Energy',fontsize=15)\n",
    "plt.xlabel('No. of Purchases',fontsize=13)\n",
    "plt.ylabel('Monthly Energy Use (kWh)',fontsize=13)\n",
    "plt.tight_layout()\n",
    "plt.savefig('plots/Purchase_vs_Energy.png',dpi=300)\n",
    "plt.show()"
   ]
  },
  {
   "cell_type": "markdown",
   "metadata": {},
   "source": [
    "## Blue line below shows start of COVID Pandemic"
   ]
  },
  {
   "cell_type": "code",
   "execution_count": 20,
   "metadata": {},
   "outputs": [
    {
     "data": {
      "image/png": "[encoded data removed]",
      "text/plain": [
       "<Figure size 720x576 with 1 Axes>"
      ]
     },
     "metadata": {
      "needs_background": "light"
     },
     "output_type": "display_data"
    }
   ],
   "source": [
    "plt.figure(figsize=(10,8))\n",
    "plt.plot(date_ranges[:-1],monthly_energy,'.')\n",
    "plt.title('Montly Energy Time Series',fontsize=15)\n",
    "plt.axvline('2020-03',c='blue')\n",
    "plt.xlabel('Time',fontsize=13)\n",
    "plt.ylabel('Monthly Energy Use (kWh)',fontsize=13)\n",
    "plt.tight_layout()\n",
    "plt.savefig('plots/Energy_time_series.png',dpi=300)\n",
    "plt.show()"
   ]
  },
  {
   "cell_type": "code",
   "execution_count": 21,
   "metadata": {},
   "outputs": [
    {
     "data": {
      "image/png": "[encoded data removed]",
      "text/plain": [
       "<Figure size 720x576 with 1 Axes>"
      ]
     },
     "metadata": {
      "needs_background": "light"
     },
     "output_type": "display_data"
    }
   ],
   "source": [
    "plt.figure(figsize=(10,8))\n",
    "plt.plot(date_ranges[:-1],number_of_purchases,'.')\n",
    "plt.title('Purchase Time Series',fontsize=15)\n",
    "plt.xlabel('Time',fontsize=13)\n",
    "plt.ylabel('Purchases',fontsize=13)\n",
    "plt.tight_layout()\n",
    "plt.savefig('plots/Purchase_time_series.png',dpi=300)\n",
    "plt.show()"
   ]
  },
  {
   "cell_type": "code",
   "execution_count": null,
   "metadata": {},
   "outputs": [],
   "source": []
  }
 ],
 "metadata": {
  "kernelspec": {
   "display_name": "Python 3",
   "language": "python",
   "name": "python3"
  },
  "language_info": {
   "codemirror_mode": {
    "name": "ipython",
    "version": 3
   },
   "file_extension": ".py",
   "mimetype": "text/x-python",
   "name": "python",
   "nbconvert_exporter": "python",
   "pygments_lexer": "ipython3",
   "version": "3.6.6"
  }
 },
 "nbformat": 4,
 "nbformat_minor": 2
}
